{
 "cells": [
  {
   "cell_type": "code",
   "execution_count": 1,
   "metadata": {},
   "outputs": [
    {
     "name": "stdout",
     "output_type": "stream",
     "text": [
      "--------- 1a) ---------\n",
      "    access_path\n",
      "0   location_32\n",
      "1  location_216\n",
      "--------- end ---------\n"
     ]
    }
   ],
   "source": [
    "### 1A ###\n",
    "print(\"--------- 1a) ---------\")\n",
    "import pandas as pd, csv\n",
    "file = 'locations.csv'\n",
    "with open(file) as f:\n",
    "    reader = csv.reader(f) #, delimiter to add delimiter\n",
    "    header = next(reader) # Getting rid of the header line\n",
    "    location = [row for row in reader]\n",
    "location_list = pd.DataFrame(pd.DataFrame(location).values,columns=header)\n",
    "def get_location_ancestors(location_id):\n",
    "    result = location_list.loc[(location_list['id'] == location_id)]\n",
    "    split = result.access_path.str.split('::').item()\n",
    "    split.pop()\n",
    "    return_df_value = []\n",
    "    return_df_header = ['access_path']\n",
    "    for i in split: \n",
    "        x = []\n",
    "        x.append(i)\n",
    "        return_df_value.append(x)\n",
    "    return_df = pd.DataFrame(return_df_value, columns=return_df_header)\n",
    "    return return_df\n",
    "print(get_location_ancestors(\"location_1380\"))\n",
    "\n",
    "print(\"--------- end ---------\")"
   ]
  },
  {
   "cell_type": "code",
   "execution_count": 2,
   "metadata": {},
   "outputs": [
    {
     "name": "stdout",
     "output_type": "stream",
     "text": [
      "--------- 1b) ---------\n",
      "      access_path\n",
      "0     location_32\n",
      "1    location_213\n",
      "2    location_214\n",
      "3    location_215\n",
      "4    location_216\n",
      "5   location_1357\n",
      "6   location_1358\n",
      "7   location_1359\n",
      "8   location_1360\n",
      "9   location_1361\n",
      "10  location_1362\n",
      "11  location_1363\n",
      "12  location_1364\n",
      "13  location_1365\n",
      "14  location_1366\n",
      "15  location_1367\n",
      "16  location_1368\n",
      "17  location_1369\n",
      "18  location_1370\n",
      "19  location_1371\n",
      "20  location_1372\n",
      "21  location_1373\n",
      "22  location_1374\n",
      "23  location_1375\n",
      "24  location_1376\n",
      "25  location_1377\n",
      "26  location_1378\n",
      "27  location_1379\n",
      "28  location_1380\n",
      "29  location_1381\n",
      "30  location_1382\n",
      "31  location_1383\n",
      "32  location_1384\n",
      "33  location_1385\n",
      "34  location_1386\n",
      "35  location_1387\n",
      "36  location_1388\n",
      "37  location_1389\n",
      "38  location_1390\n",
      "39  location_1391\n",
      "40  location_1392\n",
      "      access_path\n",
      "0    location_216\n",
      "1   location_1380\n",
      "2   location_1381\n",
      "3   location_1382\n",
      "4   location_1383\n",
      "5   location_1384\n",
      "6   location_1385\n",
      "7   location_1386\n",
      "8   location_1387\n",
      "9   location_1388\n",
      "10  location_1389\n",
      "11  location_1390\n",
      "12  location_1391\n",
      "13  location_1392\n",
      "     access_path\n",
      "0  location_1380\n",
      "--------- end ---------\n"
     ]
    }
   ],
   "source": [
    "### 1B ###\n",
    "print(\"--------- 1b) ---------\")\n",
    "\n",
    "def get_location_descendants(location_id):\n",
    "    result = pd.DataFrame(location_list['access_path'])\n",
    "    result = result[result.access_path.str.contains(location_id)]\n",
    "    return_df_value = []\n",
    "    return_df_header = ['access_path']\n",
    "    for i, row in result.iterrows():\n",
    "        split = row['access_path'].split('::')\n",
    "        x = []\n",
    "        x.append(split[-1])\n",
    "        return_df_value.append(x)\n",
    "    return_df = pd.DataFrame(return_df_value, columns=return_df_header)\n",
    "    return return_df\n",
    "\n",
    "print(get_location_descendants(\"location_32\"))\n",
    "print(get_location_descendants(\"location_216\"))\n",
    "print(get_location_descendants(\"location_1380\"))\n",
    "\n",
    "print(\"--------- end ---------\")"
   ]
  },
  {
   "cell_type": "code",
   "execution_count": 648,
   "metadata": {},
   "outputs": [
    {
     "data": {
      "application/vnd.plotly.v1+json": {
       "config": {
        "plotlyServerURL": "https://plot.ly"
       },
       "data": [
        {
         "hoverinfo": "none",
         "line": {
          "color": "rgb(210,210,210)",
          "width": 1
         },
         "mode": "lines",
         "type": "scatter",
         "x": [
          0,
          -11.25,
          null,
          0,
          -6.75,
          null,
          0,
          2.25,
          null,
          0,
          15.75,
          null,
          -11.25,
          -13.25,
          null,
          -11.25,
          -12.25,
          null,
          -11.25,
          -11.25,
          null,
          -11.25,
          -10.25,
          null,
          -11.25,
          -9.25,
          null,
          -6.75,
          -8.25,
          null,
          -6.75,
          -7.25,
          null,
          -6.75,
          -6.25,
          null,
          -6.75,
          -5.25,
          null,
          2.25,
          -4.25,
          null,
          2.25,
          -3.25,
          null,
          2.25,
          -2.25,
          null,
          2.25,
          -1.25,
          null,
          2.25,
          -0.25,
          null,
          2.25,
          0.75,
          null,
          2.25,
          1.75,
          null,
          2.25,
          2.75,
          null,
          2.25,
          3.75,
          null,
          2.25,
          4.75,
          null,
          2.25,
          5.75,
          null,
          2.25,
          6.75,
          null,
          2.25,
          7.75,
          null,
          2.25,
          8.75,
          null,
          15.75,
          9.75,
          null,
          15.75,
          10.75,
          null,
          15.75,
          11.75,
          null,
          15.75,
          12.75,
          null,
          15.75,
          13.75,
          null,
          15.75,
          14.75,
          null,
          15.75,
          15.75,
          null,
          15.75,
          16.75,
          null,
          15.75,
          17.75,
          null,
          15.75,
          18.75,
          null,
          15.75,
          19.75,
          null,
          15.75,
          20.75,
          null,
          15.75,
          21.75,
          null
         ],
         "y": [
          4,
          3,
          null,
          4,
          3,
          null,
          4,
          3,
          null,
          4,
          3,
          null,
          3,
          2,
          null,
          3,
          2,
          null,
          3,
          2,
          null,
          3,
          2,
          null,
          3,
          2,
          null,
          3,
          2,
          null,
          3,
          2,
          null,
          3,
          2,
          null,
          3,
          2,
          null,
          3,
          2,
          null,
          3,
          2,
          null,
          3,
          2,
          null,
          3,
          2,
          null,
          3,
          2,
          null,
          3,
          2,
          null,
          3,
          2,
          null,
          3,
          2,
          null,
          3,
          2,
          null,
          3,
          2,
          null,
          3,
          2,
          null,
          3,
          2,
          null,
          3,
          2,
          null,
          3,
          2,
          null,
          3,
          2,
          null,
          3,
          2,
          null,
          3,
          2,
          null,
          3,
          2,
          null,
          3,
          2,
          null,
          3,
          2,
          null,
          3,
          2,
          null,
          3,
          2,
          null,
          3,
          2,
          null,
          3,
          2,
          null,
          3,
          2,
          null,
          3,
          2,
          null,
          3,
          2,
          null
         ]
        },
        {
         "hoverinfo": "text",
         "marker": {
          "color": "#6175c1",
          "line": {
           "color": "rgb(50,50,50)",
           "width": 1
          },
          "size": 25,
          "symbol": "circle-dot"
         },
         "mode": "markers",
         "name": "Location",
         "opacity": 0.8,
         "text": [
          "location_32",
          "location_213",
          "location_214",
          "location_215",
          "location_216",
          "location_1357",
          "location_1358",
          "location_1359",
          "location_1360",
          "location_1361",
          "location_1362",
          "location_1363",
          "location_1364",
          "location_1365",
          "location_1366",
          "location_1367",
          "location_1368",
          "location_1369",
          "location_1370",
          "location_1371",
          "location_1372",
          "location_1373",
          "location_1374",
          "location_1375",
          "location_1376",
          "location_1377",
          "location_1378",
          "location_1379",
          "location_1380",
          "location_1381",
          "location_1382",
          "location_1383",
          "location_1384",
          "location_1385",
          "location_1386",
          "location_1387",
          "location_1388",
          "location_1389",
          "location_1390",
          "location_1391",
          "location_1392"
         ],
         "type": "scatter",
         "x": [
          0,
          -11.25,
          -6.75,
          2.25,
          15.75,
          -13.25,
          -12.25,
          -11.25,
          -10.25,
          -9.25,
          -8.25,
          -7.25,
          -6.25,
          -5.25,
          -4.25,
          -3.25,
          -2.25,
          -1.25,
          -0.25,
          0.75,
          1.75,
          2.75,
          3.75,
          4.75,
          5.75,
          6.75,
          7.75,
          8.75,
          9.75,
          10.75,
          11.75,
          12.75,
          13.75,
          14.75,
          15.75,
          16.75,
          17.75,
          18.75,
          19.75,
          20.75,
          21.75
         ],
         "y": [
          4,
          3,
          3,
          3,
          3,
          2,
          2,
          2,
          2,
          2,
          2,
          2,
          2,
          2,
          2,
          2,
          2,
          2,
          2,
          2,
          2,
          2,
          2,
          2,
          2,
          2,
          2,
          2,
          2,
          2,
          2,
          2,
          2,
          2,
          2,
          2,
          2,
          2,
          2,
          2,
          2
         ]
        }
       ],
       "layout": {
        "annotations": [
         {
          "font": {
           "color": "rgb(250,250,250)",
           "size": 5
          },
          "showarrow": false,
          "text": "location_32",
          "x": 0,
          "xref": "x",
          "y": 4,
          "yref": "y"
         },
         {
          "font": {
           "color": "rgb(250,250,250)",
           "size": 5
          },
          "showarrow": false,
          "text": "location_213",
          "x": -11.25,
          "xref": "x",
          "y": 3,
          "yref": "y"
         },
         {
          "font": {
           "color": "rgb(250,250,250)",
           "size": 5
          },
          "showarrow": false,
          "text": "location_214",
          "x": -6.75,
          "xref": "x",
          "y": 3,
          "yref": "y"
         },
         {
          "font": {
           "color": "rgb(250,250,250)",
           "size": 5
          },
          "showarrow": false,
          "text": "location_215",
          "x": 2.25,
          "xref": "x",
          "y": 3,
          "yref": "y"
         },
         {
          "font": {
           "color": "rgb(250,250,250)",
           "size": 5
          },
          "showarrow": false,
          "text": "location_216",
          "x": 15.75,
          "xref": "x",
          "y": 3,
          "yref": "y"
         },
         {
          "font": {
           "color": "rgb(250,250,250)",
           "size": 5
          },
          "showarrow": false,
          "text": "location_1357",
          "x": -13.25,
          "xref": "x",
          "y": 2,
          "yref": "y"
         },
         {
          "font": {
           "color": "rgb(250,250,250)",
           "size": 5
          },
          "showarrow": false,
          "text": "location_1358",
          "x": -12.25,
          "xref": "x",
          "y": 2,
          "yref": "y"
         },
         {
          "font": {
           "color": "rgb(250,250,250)",
           "size": 5
          },
          "showarrow": false,
          "text": "location_1359",
          "x": -11.25,
          "xref": "x",
          "y": 2,
          "yref": "y"
         },
         {
          "font": {
           "color": "rgb(250,250,250)",
           "size": 5
          },
          "showarrow": false,
          "text": "location_1360",
          "x": -10.25,
          "xref": "x",
          "y": 2,
          "yref": "y"
         },
         {
          "font": {
           "color": "rgb(250,250,250)",
           "size": 5
          },
          "showarrow": false,
          "text": "location_1361",
          "x": -9.25,
          "xref": "x",
          "y": 2,
          "yref": "y"
         },
         {
          "font": {
           "color": "rgb(250,250,250)",
           "size": 5
          },
          "showarrow": false,
          "text": "location_1362",
          "x": -8.25,
          "xref": "x",
          "y": 2,
          "yref": "y"
         },
         {
          "font": {
           "color": "rgb(250,250,250)",
           "size": 5
          },
          "showarrow": false,
          "text": "location_1363",
          "x": -7.25,
          "xref": "x",
          "y": 2,
          "yref": "y"
         },
         {
          "font": {
           "color": "rgb(250,250,250)",
           "size": 5
          },
          "showarrow": false,
          "text": "location_1364",
          "x": -6.25,
          "xref": "x",
          "y": 2,
          "yref": "y"
         },
         {
          "font": {
           "color": "rgb(250,250,250)",
           "size": 5
          },
          "showarrow": false,
          "text": "location_1365",
          "x": -5.25,
          "xref": "x",
          "y": 2,
          "yref": "y"
         },
         {
          "font": {
           "color": "rgb(250,250,250)",
           "size": 5
          },
          "showarrow": false,
          "text": "location_1366",
          "x": -4.25,
          "xref": "x",
          "y": 2,
          "yref": "y"
         },
         {
          "font": {
           "color": "rgb(250,250,250)",
           "size": 5
          },
          "showarrow": false,
          "text": "location_1367",
          "x": -3.25,
          "xref": "x",
          "y": 2,
          "yref": "y"
         },
         {
          "font": {
           "color": "rgb(250,250,250)",
           "size": 5
          },
          "showarrow": false,
          "text": "location_1368",
          "x": -2.25,
          "xref": "x",
          "y": 2,
          "yref": "y"
         },
         {
          "font": {
           "color": "rgb(250,250,250)",
           "size": 5
          },
          "showarrow": false,
          "text": "location_1369",
          "x": -1.25,
          "xref": "x",
          "y": 2,
          "yref": "y"
         },
         {
          "font": {
           "color": "rgb(250,250,250)",
           "size": 5
          },
          "showarrow": false,
          "text": "location_1370",
          "x": -0.25,
          "xref": "x",
          "y": 2,
          "yref": "y"
         },
         {
          "font": {
           "color": "rgb(250,250,250)",
           "size": 5
          },
          "showarrow": false,
          "text": "location_1371",
          "x": 0.75,
          "xref": "x",
          "y": 2,
          "yref": "y"
         },
         {
          "font": {
           "color": "rgb(250,250,250)",
           "size": 5
          },
          "showarrow": false,
          "text": "location_1372",
          "x": 1.75,
          "xref": "x",
          "y": 2,
          "yref": "y"
         },
         {
          "font": {
           "color": "rgb(250,250,250)",
           "size": 5
          },
          "showarrow": false,
          "text": "location_1373",
          "x": 2.75,
          "xref": "x",
          "y": 2,
          "yref": "y"
         },
         {
          "font": {
           "color": "rgb(250,250,250)",
           "size": 5
          },
          "showarrow": false,
          "text": "location_1374",
          "x": 3.75,
          "xref": "x",
          "y": 2,
          "yref": "y"
         },
         {
          "font": {
           "color": "rgb(250,250,250)",
           "size": 5
          },
          "showarrow": false,
          "text": "location_1375",
          "x": 4.75,
          "xref": "x",
          "y": 2,
          "yref": "y"
         },
         {
          "font": {
           "color": "rgb(250,250,250)",
           "size": 5
          },
          "showarrow": false,
          "text": "location_1376",
          "x": 5.75,
          "xref": "x",
          "y": 2,
          "yref": "y"
         },
         {
          "font": {
           "color": "rgb(250,250,250)",
           "size": 5
          },
          "showarrow": false,
          "text": "location_1377",
          "x": 6.75,
          "xref": "x",
          "y": 2,
          "yref": "y"
         },
         {
          "font": {
           "color": "rgb(250,250,250)",
           "size": 5
          },
          "showarrow": false,
          "text": "location_1378",
          "x": 7.75,
          "xref": "x",
          "y": 2,
          "yref": "y"
         },
         {
          "font": {
           "color": "rgb(250,250,250)",
           "size": 5
          },
          "showarrow": false,
          "text": "location_1379",
          "x": 8.75,
          "xref": "x",
          "y": 2,
          "yref": "y"
         },
         {
          "font": {
           "color": "rgb(250,250,250)",
           "size": 5
          },
          "showarrow": false,
          "text": "location_1380",
          "x": 9.75,
          "xref": "x",
          "y": 2,
          "yref": "y"
         },
         {
          "font": {
           "color": "rgb(250,250,250)",
           "size": 5
          },
          "showarrow": false,
          "text": "location_1381",
          "x": 10.75,
          "xref": "x",
          "y": 2,
          "yref": "y"
         },
         {
          "font": {
           "color": "rgb(250,250,250)",
           "size": 5
          },
          "showarrow": false,
          "text": "location_1382",
          "x": 11.75,
          "xref": "x",
          "y": 2,
          "yref": "y"
         },
         {
          "font": {
           "color": "rgb(250,250,250)",
           "size": 5
          },
          "showarrow": false,
          "text": "location_1383",
          "x": 12.75,
          "xref": "x",
          "y": 2,
          "yref": "y"
         },
         {
          "font": {
           "color": "rgb(250,250,250)",
           "size": 5
          },
          "showarrow": false,
          "text": "location_1384",
          "x": 13.75,
          "xref": "x",
          "y": 2,
          "yref": "y"
         },
         {
          "font": {
           "color": "rgb(250,250,250)",
           "size": 5
          },
          "showarrow": false,
          "text": "location_1385",
          "x": 14.75,
          "xref": "x",
          "y": 2,
          "yref": "y"
         },
         {
          "font": {
           "color": "rgb(250,250,250)",
           "size": 5
          },
          "showarrow": false,
          "text": "location_1386",
          "x": 15.75,
          "xref": "x",
          "y": 2,
          "yref": "y"
         },
         {
          "font": {
           "color": "rgb(250,250,250)",
           "size": 5
          },
          "showarrow": false,
          "text": "location_1387",
          "x": 16.75,
          "xref": "x",
          "y": 2,
          "yref": "y"
         },
         {
          "font": {
           "color": "rgb(250,250,250)",
           "size": 5
          },
          "showarrow": false,
          "text": "location_1388",
          "x": 17.75,
          "xref": "x",
          "y": 2,
          "yref": "y"
         },
         {
          "font": {
           "color": "rgb(250,250,250)",
           "size": 5
          },
          "showarrow": false,
          "text": "location_1389",
          "x": 18.75,
          "xref": "x",
          "y": 2,
          "yref": "y"
         },
         {
          "font": {
           "color": "rgb(250,250,250)",
           "size": 5
          },
          "showarrow": false,
          "text": "location_1390",
          "x": 19.75,
          "xref": "x",
          "y": 2,
          "yref": "y"
         },
         {
          "font": {
           "color": "rgb(250,250,250)",
           "size": 5
          },
          "showarrow": false,
          "text": "location_1391",
          "x": 20.75,
          "xref": "x",
          "y": 2,
          "yref": "y"
         },
         {
          "font": {
           "color": "rgb(250,250,250)",
           "size": 5
          },
          "showarrow": false,
          "text": "location_1392",
          "x": 21.75,
          "xref": "x",
          "y": 2,
          "yref": "y"
         }
        ],
        "font": {
         "size": 12
        },
        "hovermode": "closest",
        "margin": {
         "b": 85,
         "l": 40,
         "r": 40,
         "t": 100
        },
        "plot_bgcolor": "rgb(248,248,248)",
        "showlegend": false,
        "template": {
         "data": {
          "bar": [
           {
            "error_x": {
             "color": "#2a3f5f"
            },
            "error_y": {
             "color": "#2a3f5f"
            },
            "marker": {
             "line": {
              "color": "#E5ECF6",
              "width": 0.5
             },
             "pattern": {
              "fillmode": "overlay",
              "size": 10,
              "solidity": 0.2
             }
            },
            "type": "bar"
           }
          ],
          "barpolar": [
           {
            "marker": {
             "line": {
              "color": "#E5ECF6",
              "width": 0.5
             },
             "pattern": {
              "fillmode": "overlay",
              "size": 10,
              "solidity": 0.2
             }
            },
            "type": "barpolar"
           }
          ],
          "carpet": [
           {
            "aaxis": {
             "endlinecolor": "#2a3f5f",
             "gridcolor": "white",
             "linecolor": "white",
             "minorgridcolor": "white",
             "startlinecolor": "#2a3f5f"
            },
            "baxis": {
             "endlinecolor": "#2a3f5f",
             "gridcolor": "white",
             "linecolor": "white",
             "minorgridcolor": "white",
             "startlinecolor": "#2a3f5f"
            },
            "type": "carpet"
           }
          ],
          "choropleth": [
           {
            "colorbar": {
             "outlinewidth": 0,
             "ticks": ""
            },
            "type": "choropleth"
           }
          ],
          "contour": [
           {
            "colorbar": {
             "outlinewidth": 0,
             "ticks": ""
            },
            "colorscale": [
             [
              0,
              "#0d0887"
             ],
             [
              0.1111111111111111,
              "#46039f"
             ],
             [
              0.2222222222222222,
              "#7201a8"
             ],
             [
              0.3333333333333333,
              "#9c179e"
             ],
             [
              0.4444444444444444,
              "#bd3786"
             ],
             [
              0.5555555555555556,
              "#d8576b"
             ],
             [
              0.6666666666666666,
              "#ed7953"
             ],
             [
              0.7777777777777778,
              "#fb9f3a"
             ],
             [
              0.8888888888888888,
              "#fdca26"
             ],
             [
              1,
              "#f0f921"
             ]
            ],
            "type": "contour"
           }
          ],
          "contourcarpet": [
           {
            "colorbar": {
             "outlinewidth": 0,
             "ticks": ""
            },
            "type": "contourcarpet"
           }
          ],
          "heatmap": [
           {
            "colorbar": {
             "outlinewidth": 0,
             "ticks": ""
            },
            "colorscale": [
             [
              0,
              "#0d0887"
             ],
             [
              0.1111111111111111,
              "#46039f"
             ],
             [
              0.2222222222222222,
              "#7201a8"
             ],
             [
              0.3333333333333333,
              "#9c179e"
             ],
             [
              0.4444444444444444,
              "#bd3786"
             ],
             [
              0.5555555555555556,
              "#d8576b"
             ],
             [
              0.6666666666666666,
              "#ed7953"
             ],
             [
              0.7777777777777778,
              "#fb9f3a"
             ],
             [
              0.8888888888888888,
              "#fdca26"
             ],
             [
              1,
              "#f0f921"
             ]
            ],
            "type": "heatmap"
           }
          ],
          "heatmapgl": [
           {
            "colorbar": {
             "outlinewidth": 0,
             "ticks": ""
            },
            "colorscale": [
             [
              0,
              "#0d0887"
             ],
             [
              0.1111111111111111,
              "#46039f"
             ],
             [
              0.2222222222222222,
              "#7201a8"
             ],
             [
              0.3333333333333333,
              "#9c179e"
             ],
             [
              0.4444444444444444,
              "#bd3786"
             ],
             [
              0.5555555555555556,
              "#d8576b"
             ],
             [
              0.6666666666666666,
              "#ed7953"
             ],
             [
              0.7777777777777778,
              "#fb9f3a"
             ],
             [
              0.8888888888888888,
              "#fdca26"
             ],
             [
              1,
              "#f0f921"
             ]
            ],
            "type": "heatmapgl"
           }
          ],
          "histogram": [
           {
            "marker": {
             "pattern": {
              "fillmode": "overlay",
              "size": 10,
              "solidity": 0.2
             }
            },
            "type": "histogram"
           }
          ],
          "histogram2d": [
           {
            "colorbar": {
             "outlinewidth": 0,
             "ticks": ""
            },
            "colorscale": [
             [
              0,
              "#0d0887"
             ],
             [
              0.1111111111111111,
              "#46039f"
             ],
             [
              0.2222222222222222,
              "#7201a8"
             ],
             [
              0.3333333333333333,
              "#9c179e"
             ],
             [
              0.4444444444444444,
              "#bd3786"
             ],
             [
              0.5555555555555556,
              "#d8576b"
             ],
             [
              0.6666666666666666,
              "#ed7953"
             ],
             [
              0.7777777777777778,
              "#fb9f3a"
             ],
             [
              0.8888888888888888,
              "#fdca26"
             ],
             [
              1,
              "#f0f921"
             ]
            ],
            "type": "histogram2d"
           }
          ],
          "histogram2dcontour": [
           {
            "colorbar": {
             "outlinewidth": 0,
             "ticks": ""
            },
            "colorscale": [
             [
              0,
              "#0d0887"
             ],
             [
              0.1111111111111111,
              "#46039f"
             ],
             [
              0.2222222222222222,
              "#7201a8"
             ],
             [
              0.3333333333333333,
              "#9c179e"
             ],
             [
              0.4444444444444444,
              "#bd3786"
             ],
             [
              0.5555555555555556,
              "#d8576b"
             ],
             [
              0.6666666666666666,
              "#ed7953"
             ],
             [
              0.7777777777777778,
              "#fb9f3a"
             ],
             [
              0.8888888888888888,
              "#fdca26"
             ],
             [
              1,
              "#f0f921"
             ]
            ],
            "type": "histogram2dcontour"
           }
          ],
          "mesh3d": [
           {
            "colorbar": {
             "outlinewidth": 0,
             "ticks": ""
            },
            "type": "mesh3d"
           }
          ],
          "parcoords": [
           {
            "line": {
             "colorbar": {
              "outlinewidth": 0,
              "ticks": ""
             }
            },
            "type": "parcoords"
           }
          ],
          "pie": [
           {
            "automargin": true,
            "type": "pie"
           }
          ],
          "scatter": [
           {
            "fillpattern": {
             "fillmode": "overlay",
             "size": 10,
             "solidity": 0.2
            },
            "type": "scatter"
           }
          ],
          "scatter3d": [
           {
            "line": {
             "colorbar": {
              "outlinewidth": 0,
              "ticks": ""
             }
            },
            "marker": {
             "colorbar": {
              "outlinewidth": 0,
              "ticks": ""
             }
            },
            "type": "scatter3d"
           }
          ],
          "scattercarpet": [
           {
            "marker": {
             "colorbar": {
              "outlinewidth": 0,
              "ticks": ""
             }
            },
            "type": "scattercarpet"
           }
          ],
          "scattergeo": [
           {
            "marker": {
             "colorbar": {
              "outlinewidth": 0,
              "ticks": ""
             }
            },
            "type": "scattergeo"
           }
          ],
          "scattergl": [
           {
            "marker": {
             "colorbar": {
              "outlinewidth": 0,
              "ticks": ""
             }
            },
            "type": "scattergl"
           }
          ],
          "scattermapbox": [
           {
            "marker": {
             "colorbar": {
              "outlinewidth": 0,
              "ticks": ""
             }
            },
            "type": "scattermapbox"
           }
          ],
          "scatterpolar": [
           {
            "marker": {
             "colorbar": {
              "outlinewidth": 0,
              "ticks": ""
             }
            },
            "type": "scatterpolar"
           }
          ],
          "scatterpolargl": [
           {
            "marker": {
             "colorbar": {
              "outlinewidth": 0,
              "ticks": ""
             }
            },
            "type": "scatterpolargl"
           }
          ],
          "scatterternary": [
           {
            "marker": {
             "colorbar": {
              "outlinewidth": 0,
              "ticks": ""
             }
            },
            "type": "scatterternary"
           }
          ],
          "surface": [
           {
            "colorbar": {
             "outlinewidth": 0,
             "ticks": ""
            },
            "colorscale": [
             [
              0,
              "#0d0887"
             ],
             [
              0.1111111111111111,
              "#46039f"
             ],
             [
              0.2222222222222222,
              "#7201a8"
             ],
             [
              0.3333333333333333,
              "#9c179e"
             ],
             [
              0.4444444444444444,
              "#bd3786"
             ],
             [
              0.5555555555555556,
              "#d8576b"
             ],
             [
              0.6666666666666666,
              "#ed7953"
             ],
             [
              0.7777777777777778,
              "#fb9f3a"
             ],
             [
              0.8888888888888888,
              "#fdca26"
             ],
             [
              1,
              "#f0f921"
             ]
            ],
            "type": "surface"
           }
          ],
          "table": [
           {
            "cells": {
             "fill": {
              "color": "#EBF0F8"
             },
             "line": {
              "color": "white"
             }
            },
            "header": {
             "fill": {
              "color": "#C8D4E3"
             },
             "line": {
              "color": "white"
             }
            },
            "type": "table"
           }
          ]
         },
         "layout": {
          "annotationdefaults": {
           "arrowcolor": "#2a3f5f",
           "arrowhead": 0,
           "arrowwidth": 1
          },
          "autotypenumbers": "strict",
          "coloraxis": {
           "colorbar": {
            "outlinewidth": 0,
            "ticks": ""
           }
          },
          "colorscale": {
           "diverging": [
            [
             0,
             "#8e0152"
            ],
            [
             0.1,
             "#c51b7d"
            ],
            [
             0.2,
             "#de77ae"
            ],
            [
             0.3,
             "#f1b6da"
            ],
            [
             0.4,
             "#fde0ef"
            ],
            [
             0.5,
             "#f7f7f7"
            ],
            [
             0.6,
             "#e6f5d0"
            ],
            [
             0.7,
             "#b8e186"
            ],
            [
             0.8,
             "#7fbc41"
            ],
            [
             0.9,
             "#4d9221"
            ],
            [
             1,
             "#276419"
            ]
           ],
           "sequential": [
            [
             0,
             "#0d0887"
            ],
            [
             0.1111111111111111,
             "#46039f"
            ],
            [
             0.2222222222222222,
             "#7201a8"
            ],
            [
             0.3333333333333333,
             "#9c179e"
            ],
            [
             0.4444444444444444,
             "#bd3786"
            ],
            [
             0.5555555555555556,
             "#d8576b"
            ],
            [
             0.6666666666666666,
             "#ed7953"
            ],
            [
             0.7777777777777778,
             "#fb9f3a"
            ],
            [
             0.8888888888888888,
             "#fdca26"
            ],
            [
             1,
             "#f0f921"
            ]
           ],
           "sequentialminus": [
            [
             0,
             "#0d0887"
            ],
            [
             0.1111111111111111,
             "#46039f"
            ],
            [
             0.2222222222222222,
             "#7201a8"
            ],
            [
             0.3333333333333333,
             "#9c179e"
            ],
            [
             0.4444444444444444,
             "#bd3786"
            ],
            [
             0.5555555555555556,
             "#d8576b"
            ],
            [
             0.6666666666666666,
             "#ed7953"
            ],
            [
             0.7777777777777778,
             "#fb9f3a"
            ],
            [
             0.8888888888888888,
             "#fdca26"
            ],
            [
             1,
             "#f0f921"
            ]
           ]
          },
          "colorway": [
           "#636efa",
           "#EF553B",
           "#00cc96",
           "#ab63fa",
           "#FFA15A",
           "#19d3f3",
           "#FF6692",
           "#B6E880",
           "#FF97FF",
           "#FECB52"
          ],
          "font": {
           "color": "#2a3f5f"
          },
          "geo": {
           "bgcolor": "white",
           "lakecolor": "white",
           "landcolor": "#E5ECF6",
           "showlakes": true,
           "showland": true,
           "subunitcolor": "white"
          },
          "hoverlabel": {
           "align": "left"
          },
          "hovermode": "closest",
          "mapbox": {
           "style": "light"
          },
          "paper_bgcolor": "white",
          "plot_bgcolor": "#E5ECF6",
          "polar": {
           "angularaxis": {
            "gridcolor": "white",
            "linecolor": "white",
            "ticks": ""
           },
           "bgcolor": "#E5ECF6",
           "radialaxis": {
            "gridcolor": "white",
            "linecolor": "white",
            "ticks": ""
           }
          },
          "scene": {
           "xaxis": {
            "backgroundcolor": "#E5ECF6",
            "gridcolor": "white",
            "gridwidth": 2,
            "linecolor": "white",
            "showbackground": true,
            "ticks": "",
            "zerolinecolor": "white"
           },
           "yaxis": {
            "backgroundcolor": "#E5ECF6",
            "gridcolor": "white",
            "gridwidth": 2,
            "linecolor": "white",
            "showbackground": true,
            "ticks": "",
            "zerolinecolor": "white"
           },
           "zaxis": {
            "backgroundcolor": "#E5ECF6",
            "gridcolor": "white",
            "gridwidth": 2,
            "linecolor": "white",
            "showbackground": true,
            "ticks": "",
            "zerolinecolor": "white"
           }
          },
          "shapedefaults": {
           "line": {
            "color": "#2a3f5f"
           }
          },
          "ternary": {
           "aaxis": {
            "gridcolor": "white",
            "linecolor": "white",
            "ticks": ""
           },
           "baxis": {
            "gridcolor": "white",
            "linecolor": "white",
            "ticks": ""
           },
           "bgcolor": "#E5ECF6",
           "caxis": {
            "gridcolor": "white",
            "linecolor": "white",
            "ticks": ""
           }
          },
          "title": {
           "x": 0.05
          },
          "xaxis": {
           "automargin": true,
           "gridcolor": "white",
           "linecolor": "white",
           "ticks": "",
           "title": {
            "standoff": 15
           },
           "zerolinecolor": "white",
           "zerolinewidth": 2
          },
          "yaxis": {
           "automargin": true,
           "gridcolor": "white",
           "linecolor": "white",
           "ticks": "",
           "title": {
            "standoff": 15
           },
           "zerolinecolor": "white",
           "zerolinewidth": 2
          }
         }
        },
        "title": {
         "text": "Tree graph"
        },
        "xaxis": {
         "showgrid": false,
         "showline": false,
         "showticklabels": false,
         "zeroline": false
        },
        "yaxis": {
         "showgrid": false,
         "showline": false,
         "showticklabels": false,
         "zeroline": false
        }
       }
      }
     },
     "metadata": {},
     "output_type": "display_data"
    }
   ],
   "source": [
    "import igraph\n",
    "from igraph import Graph, EdgeSeq\n",
    "\n",
    "#calculating number of unique location\n",
    "nr_vertices = location_list['id'].tolist()\n",
    "v_label = nr_vertices\n",
    "#get the direct relationship between location\n",
    "add_to_edge = []\n",
    "for i in nr_vertices:\n",
    "    if not get_location_ancestors(i).empty:\n",
    "        edges = (nr_vertices.index(get_location_ancestors(i)['access_path'].iloc[-1]), nr_vertices.index(i))\n",
    "        add_to_edge.append(edges)\n",
    "G = Graph()\n",
    "G.add_vertices(len(nr_vertices))\n",
    "G.add_edges(add_to_edge)\n",
    "lay = G.layout_reingold_tilford(root=[0])\n",
    "\n",
    "position = {k: lay[k] for k in range(len(nr_vertices))}\n",
    "Y = [lay[k][1] for k in range(len(nr_vertices))]\n",
    "M = max(Y)\n",
    "\n",
    "es = EdgeSeq(G) # sequence of edges\n",
    "E = [e.tuple for e in G.es] # list of edges\n",
    "\n",
    "L = len(position)\n",
    "Xn = [position[k][0] for k in range(L)]\n",
    "Yn = [2*M-position[k][1] for k in range(L)]\n",
    "Xe = []\n",
    "Ye = []\n",
    "for edge in E:\n",
    "    Xe+=[position[edge[0]][0],position[edge[1]][0], None]\n",
    "    Ye+=[2*M-position[edge[0]][1],2*M-position[edge[1]][1], None]\n",
    "labels = v_label\n",
    "\n",
    "import plotly.graph_objects as go\n",
    "fig = go.Figure()\n",
    "fig.add_trace(go.Scatter(x=Xe, y=Ye, mode='lines', line=dict(color='rgb(210,210,210)', width=1), hoverinfo='none'))\n",
    "fig.add_trace(go.Scatter(x=Xn, y=Yn, mode='markers', name='Location', marker=dict(symbol='circle-dot', size=25, color='#6175c1',\n",
    "                            line=dict(color='rgb(50,50,50)', width=1)), text=labels, hoverinfo='text', opacity=0.8 ))\n",
    "                            \n",
    "def make_annotations(pos, text, font_size=5, font_color='rgb(250,250,250)'):\n",
    "    L=len(pos)\n",
    "    if len(text)!=L:\n",
    "        raise ValueError('The lists pos and text must have the same len')\n",
    "    annotations = []\n",
    "    for k in range(L):\n",
    "        annotations.append(\n",
    "            dict(\n",
    "                text=labels[k], # or replace labels with a different list for the text within the circle\n",
    "                x=pos[k][0], y=2*M-position[k][1],\n",
    "                xref='x1', yref='y1',\n",
    "                font=dict(color=font_color, size=font_size),\n",
    "                showarrow=False))\n",
    "    return annotations\n",
    "# hide axis line, grid, ticklabels and  title\n",
    "axis = dict(showline=False, zeroline=False, showgrid=False, showticklabels=False,)\n",
    "\n",
    "fig.update_layout(title= 'Tree graph', annotations=make_annotations(position, v_label),\n",
    "              font_size=12, showlegend=False, xaxis=axis, yaxis=axis, margin=dict(l=40, r=40, b=85, t=100),\n",
    "              hovermode='closest', plot_bgcolor='rgb(248,248,248)')\n",
    "fig.show()"
   ]
  },
  {
   "cell_type": "code",
   "execution_count": 649,
   "metadata": {},
   "outputs": [
    {
     "name": "stdout",
     "output_type": "stream",
     "text": [
      "--------- 1d) ---------\n",
      "               id                                               name  \\\n",
      "0     location_32  77201 Smith Stravenue Suite 983\\nObrienberg, P...   \n",
      "1    location_213            378 Jones Mews\\nNorth Jeffery, SD 71493   \n",
      "2    location_214  8091 Frederick Burgs Apt. 413\\nNorth Georgelan...   \n",
      "3    location_215  38989 Smith Courts Apt. 936\\nWest Leslie, LA 7...   \n",
      "4    location_216  638 Singh Locks Suite 427\\nWest Theresa, MI 10446   \n",
      "5   location_1357            654 Mitchell Keys\\nWebermouth, WA 55621   \n",
      "6   location_1358  20806 Duffy Mountain Apt. 550\\nLake Bonnieside...   \n",
      "7   location_1359  486 Amanda Forges Apt. 920\\nMeyerchester, WV 0...   \n",
      "8   location_1360             72342 Fox Course\\nAdamsshire, NH 16380   \n",
      "9   location_1361   36483 Barnes Glens Apt. 206\\nHeathland, DE 87320   \n",
      "10  location_1362       56446 Benitez Junction\\nKarinaberg, MT 88565   \n",
      "11  location_1363  1038 Glass Common Apt. 584\\nGregorymouth, ND 5...   \n",
      "12  location_1364      434 Williams Station\\nElizabethfort, MN 86721   \n",
      "13  location_1365      6219 Alexander Lodge\\nNew Jacobstad, KS 13043   \n",
      "14  location_1366             3079 Smith Plaza\\nMurphybury, IL 51597   \n",
      "15  location_1367          4512 Stephen Mission\\nLanemouth, AR 38719   \n",
      "16  location_1368  1521 Valerie Plains\\nEast Gabriellestad, WA 83895   \n",
      "17  location_1369          41282 Dylan Harbors\\nMendeztown, MA 62572   \n",
      "18  location_1370  6262 Jennifer Hills Suite 906\\nNew Emilyport, ...   \n",
      "19  location_1371  1491 Tyler Stream Apt. 287\\nVanessaport, OR 21709   \n",
      "20  location_1372     8742 Jackson Point\\nEast Claudiastad, CA 92524   \n",
      "21  location_1373                   Unit 1283 Box 3182\\nDPO AP 50224   \n",
      "22  location_1374  8771 Arias Lock Suite 132\\nPattersonberg, NC 9...   \n",
      "23  location_1375        408 Victoria Neck\\nLake Soniaside, NH 23047   \n",
      "24  location_1376         1887 Nelson Villages\\nJamesshire, IL 50355   \n",
      "25  location_1377             639 Robert Center\\nRossshire, IN 52798   \n",
      "26  location_1378              52413 Harry Road\\nAmberport, TX 08603   \n",
      "27  location_1379       115 Perez Bridge\\nNorth Alicemouth, AL 37450   \n",
      "28  location_1380  302 Francis Cape Suite 745\\nNew Christy, SD 58293   \n",
      "29  location_1381            16822 Smith Vista\\nCraigburgh, DC 79571   \n",
      "30  location_1382   4184 Stout Green Apt. 687\\nNew Matthew, NM 96461   \n",
      "31  location_1383     659 Bradley Terrace\\nMartinezchester, KY 26364   \n",
      "32  location_1384                   Unit 5753 Box 5317\\nDPO AA 89017   \n",
      "33  location_1385    8893 Baker Shore Apt. 834\\nNorth John, NE 11512   \n",
      "34  location_1386       92865 Mcpherson Row\\nLaurenborough, ME 01339   \n",
      "35  location_1387       30144 Roberson Street\\nEast Joshua, KY 92201   \n",
      "36  location_1388     9616 Stone Camp Apt. 496\\nReginaside, MA 93296   \n",
      "37  location_1389   88068 Santana Extension\\nEast Kristine, SC 23417   \n",
      "38  location_1390          8630 Anderson Well\\nWest Regina, CA 13695   \n",
      "39  location_1391    990 Cody Drive Suite 957\\nJohnsontown, KY 56405   \n",
      "40  location_1392          29193 Gonzales Path\\nThomasview, OK 88489   \n",
      "\n",
      "                                 access_path          user_id  \n",
      "0                                location_32  user_0000000000  \n",
      "1                  location_32::location_213  user_0000000000  \n",
      "2                  location_32::location_214  user_0000000000  \n",
      "3                  location_32::location_215  user_0000000000  \n",
      "4                  location_32::location_216  user_0000000000  \n",
      "5   location_32::location_213::location_1357  user_0000000000  \n",
      "6   location_32::location_213::location_1358  user_0000000000  \n",
      "7   location_32::location_213::location_1359  user_0000000000  \n",
      "8   location_32::location_213::location_1360  user_0000000000  \n",
      "9   location_32::location_213::location_1361  user_0000000000  \n",
      "10  location_32::location_214::location_1362  user_0000000000  \n",
      "11  location_32::location_214::location_1363  user_0000000000  \n",
      "12  location_32::location_214::location_1364  user_0000000000  \n",
      "13  location_32::location_214::location_1365  user_0000000000  \n",
      "14  location_32::location_215::location_1366  user_0000000000  \n",
      "15  location_32::location_215::location_1367  user_0000000000  \n",
      "16  location_32::location_215::location_1368  user_0000000000  \n",
      "17  location_32::location_215::location_1369  user_0000000000  \n",
      "18  location_32::location_215::location_1370  user_0000000000  \n",
      "19  location_32::location_215::location_1371  user_0000000000  \n",
      "20  location_32::location_215::location_1372  user_0000000000  \n",
      "21  location_32::location_215::location_1373  user_0000000000  \n",
      "22  location_32::location_215::location_1374  user_0000000000  \n",
      "23  location_32::location_215::location_1375  user_0000000000  \n",
      "24  location_32::location_215::location_1376  user_0000000000  \n",
      "25  location_32::location_215::location_1377  user_0000000000  \n",
      "26  location_32::location_215::location_1378  user_0000000000  \n",
      "27  location_32::location_215::location_1379  user_0000000000  \n",
      "28  location_32::location_216::location_1380  user_0000000000  \n",
      "29  location_32::location_216::location_1381  user_0000000000  \n",
      "30  location_32::location_216::location_1382  user_0000000000  \n",
      "31  location_32::location_216::location_1383  user_0000000000  \n",
      "32  location_32::location_216::location_1384  user_0000000000  \n",
      "33  location_32::location_216::location_1385  user_0000000000  \n",
      "34  location_32::location_216::location_1386  user_0000000000  \n",
      "35  location_32::location_216::location_1387  user_0000000000  \n",
      "36  location_32::location_216::location_1388  user_0000000000  \n",
      "37  location_32::location_216::location_1389  user_0000000000  \n",
      "38  location_32::location_216::location_1390  user_0000000000  \n",
      "39  location_32::location_216::location_1391  user_0000000000  \n",
      "40  location_32::location_216::location_1392  user_0000000000  \n",
      "               id                                               name  \\\n",
      "0    location_216  638 Singh Locks Suite 427\\nWest Theresa, MI 10446   \n",
      "1   location_1380  302 Francis Cape Suite 745\\nNew Christy, SD 58293   \n",
      "2   location_1381            16822 Smith Vista\\nCraigburgh, DC 79571   \n",
      "3   location_1382   4184 Stout Green Apt. 687\\nNew Matthew, NM 96461   \n",
      "4   location_1383     659 Bradley Terrace\\nMartinezchester, KY 26364   \n",
      "5   location_1384                   Unit 5753 Box 5317\\nDPO AA 89017   \n",
      "6   location_1385    8893 Baker Shore Apt. 834\\nNorth John, NE 11512   \n",
      "7   location_1386       92865 Mcpherson Row\\nLaurenborough, ME 01339   \n",
      "8   location_1387       30144 Roberson Street\\nEast Joshua, KY 92201   \n",
      "9   location_1388     9616 Stone Camp Apt. 496\\nReginaside, MA 93296   \n",
      "10  location_1389   88068 Santana Extension\\nEast Kristine, SC 23417   \n",
      "11  location_1390          8630 Anderson Well\\nWest Regina, CA 13695   \n",
      "12  location_1391    990 Cody Drive Suite 957\\nJohnsontown, KY 56405   \n",
      "13  location_1392          29193 Gonzales Path\\nThomasview, OK 88489   \n",
      "\n",
      "                                 access_path          user_id  \n",
      "0                  location_32::location_216  user_0000000000  \n",
      "1   location_32::location_216::location_1380  user_0000000000  \n",
      "2   location_32::location_216::location_1381  user_0000000000  \n",
      "3   location_32::location_216::location_1382  user_0000000000  \n",
      "4   location_32::location_216::location_1383  user_0000000000  \n",
      "5   location_32::location_216::location_1384  user_0000000000  \n",
      "6   location_32::location_216::location_1385  user_0000000000  \n",
      "7   location_32::location_216::location_1386  user_0000000000  \n",
      "8   location_32::location_216::location_1387  user_0000000000  \n",
      "9   location_32::location_216::location_1388  user_0000000000  \n",
      "10  location_32::location_216::location_1389  user_0000000000  \n",
      "11  location_32::location_216::location_1390  user_0000000000  \n",
      "12  location_32::location_216::location_1391  user_0000000000  \n",
      "13  location_32::location_216::location_1392  user_0000000000  \n",
      "              id                                               name  \\\n",
      "0  location_1380  302 Francis Cape Suite 745\\nNew Christy, SD 58293   \n",
      "\n",
      "                                access_path          user_id  \n",
      "0  location_32::location_216::location_1380  user_0000000001  \n",
      "               id                                               name  \\\n",
      "0    location_216  638 Singh Locks Suite 427\\nWest Theresa, MI 10446   \n",
      "1   location_1380  302 Francis Cape Suite 745\\nNew Christy, SD 58293   \n",
      "2   location_1381            16822 Smith Vista\\nCraigburgh, DC 79571   \n",
      "3   location_1382   4184 Stout Green Apt. 687\\nNew Matthew, NM 96461   \n",
      "4   location_1383     659 Bradley Terrace\\nMartinezchester, KY 26364   \n",
      "5   location_1384                   Unit 5753 Box 5317\\nDPO AA 89017   \n",
      "6   location_1385    8893 Baker Shore Apt. 834\\nNorth John, NE 11512   \n",
      "7   location_1386       92865 Mcpherson Row\\nLaurenborough, ME 01339   \n",
      "8   location_1387       30144 Roberson Street\\nEast Joshua, KY 92201   \n",
      "9   location_1388     9616 Stone Camp Apt. 496\\nReginaside, MA 93296   \n",
      "10  location_1389   88068 Santana Extension\\nEast Kristine, SC 23417   \n",
      "11  location_1390          8630 Anderson Well\\nWest Regina, CA 13695   \n",
      "12  location_1391    990 Cody Drive Suite 957\\nJohnsontown, KY 56405   \n",
      "13  location_1392          29193 Gonzales Path\\nThomasview, OK 88489   \n",
      "\n",
      "                                 access_path          user_id  \n",
      "0                  location_32::location_216  user_0000000009  \n",
      "1   location_32::location_216::location_1380  user_0000000009  \n",
      "2   location_32::location_216::location_1381  user_0000000009  \n",
      "3   location_32::location_216::location_1382  user_0000000009  \n",
      "4   location_32::location_216::location_1383  user_0000000009  \n",
      "5   location_32::location_216::location_1384  user_0000000009  \n",
      "6   location_32::location_216::location_1385  user_0000000009  \n",
      "7   location_32::location_216::location_1386  user_0000000009  \n",
      "8   location_32::location_216::location_1387  user_0000000009  \n",
      "9   location_32::location_216::location_1388  user_0000000009  \n",
      "10  location_32::location_216::location_1389  user_0000000009  \n",
      "11  location_32::location_216::location_1390  user_0000000009  \n",
      "12  location_32::location_216::location_1391  user_0000000009  \n",
      "13  location_32::location_216::location_1392  user_0000000009  \n",
      "--------- end ---------\n"
     ]
    }
   ],
   "source": [
    "### 1d ###\n",
    "print(\"--------- 1d) ---------\")\n",
    "\n",
    "file = 'granted_permissions.csv'\n",
    "with open(file) as f:\n",
    "    reader = csv.reader(f) #, delimiter to add delimiter\n",
    "    header = next(reader) # Getting rid of the header line\n",
    "    task = [row for row in reader]\n",
    "gp_list = pd.DataFrame(pd.DataFrame(task).values,columns=header)\n",
    "for i, row in gp_list.iterrows(): #loop through granted permission\n",
    "    user_id_gl = get_location_descendants(row['access_path']) #Use Q1b func to get descendants\n",
    "    user_id_gl['user_id'] = row['user_id'] #assign user_id to descendants\n",
    "    #merge using descendants and location ID\n",
    "    user_id_gl = location_list.merge(user_id_gl, left_on=\"id\", right_on=\"access_path\")\n",
    "    user_id_gl.columns = ['id', 'name', 'access_path', 'extra', 'user_id'] #renaming columns\n",
    "    user_id_gl.drop(user_id_gl.columns[[3]], axis=1, inplace=True) #remove the x and y access_path\n",
    "    print(user_id_gl)\n",
    "    \n",
    "print(\"--------- end ---------\")"
   ]
  },
  {
   "cell_type": "code",
   "execution_count": 650,
   "metadata": {},
   "outputs": [
    {
     "name": "stdout",
     "output_type": "stream",
     "text": [
      "--------- 1e) ---------\n",
      "                                         id\n",
      "0      14865b22-7c4b-4ed2-98bf-e1d3aa685960\n",
      "1      c33ab3d5-b24a-4b3b-b868-972b890202a2\n",
      "2      7d0ccadb-44ce-402e-a880-7a4ac477623b\n",
      "3      d87ca01f-6f0a-4442-990c-40c74cf99cc2\n",
      "4      4392f1ce-dac3-4afb-89a0-d37f11221815\n",
      "...                                     ...\n",
      "21088  0476a7be-57d2-46c1-bde0-4b3e49a8958e\n",
      "21089  e76ae220-f2ab-4bbd-8262-f5e22926a805\n",
      "21090  653cd126-92c5-447c-aab0-70e90e59986a\n",
      "21091  82141ec0-2fbb-486e-8f84-932407504571\n",
      "21092  4116438f-2d51-491e-899c-10396c66811d\n",
      "\n",
      "[21093 rows x 1 columns]\n",
      "--------- end ---------\n"
     ]
    }
   ],
   "source": [
    "### 1e ###\n",
    "print(\"--------- 1e) ---------\")\n",
    "\n",
    "file = 'meetings.csv'\n",
    "with open(file) as f:\n",
    "    reader = csv.reader(f) #, delimiter to add delimiter\n",
    "    header = next(reader) # Getting rid of the header line\n",
    "    task = [row for row in reader]\n",
    "meetings_list = pd.DataFrame(pd.DataFrame(task).values,columns=header)\n",
    "#print(meetings_list)\n",
    "\n",
    "def read_meetings(user_id):\n",
    "    for i, row in gp_list.iterrows(): #loop through granted permission\n",
    "        user_id_gl = get_location_descendants(row['access_path']) #Use Q1b func to get descendants\n",
    "        user_id_gl['user_id'] = row['user_id'] #assign user_id to descendants\n",
    "    user_id_gl = meetings_list.merge(user_id_gl, left_on=\"location_id\", right_on=\"access_path\")\n",
    "    user_id_gl = user_id_gl[['id']]\n",
    "    return(user_id_gl)\n",
    "\n",
    "print(read_meetings(\"user_0000000009\"))\n",
    "\n",
    "print(\"--------- end ---------\")"
   ]
  },
  {
   "cell_type": "code",
   "execution_count": 651,
   "metadata": {},
   "outputs": [
    {
     "name": "stdout",
     "output_type": "stream",
     "text": [
      "--------- 1f) Preparing data ---------\n",
      "--------- end ---------\n"
     ]
    }
   ],
   "source": [
    "### 1f ###\n",
    "print(\"--------- 1f) Preparing data ---------\")\n",
    "\n",
    "from sqlalchemy import *\n",
    "\n",
    "engine = create_engine('sqlite:///mobile.sqlite', echo=False)\n",
    "\n",
    "location_list.to_sql('locations_table', con=engine, if_exists='replace')\n",
    "gp_list.to_sql('granted_permission_table', con=engine, if_exists='replace')\n",
    "meetings_list.to_sql('meetings_table', con=engine, if_exists='replace')\n",
    "\n",
    "print(\"--------- end ---------\")"
   ]
  },
  {
   "cell_type": "code",
   "execution_count": 652,
   "metadata": {},
   "outputs": [
    {
     "name": "stdout",
     "output_type": "stream",
     "text": [
      "--------- 1f i)  Q1(a)---------\n",
      "['location_32', 'location_216']\n",
      "--------- end ---------\n"
     ]
    }
   ],
   "source": [
    "### 1f i ###\n",
    "print(\"--------- 1f i)  Q1(a)---------\")\n",
    "\n",
    "def get_location_ancestors_SQL(location_id):\n",
    "    query = engine.execute(\"SELECT access_path FROM locations_table where access_path like ?\", \"%\"+location_id)\n",
    "    for i in query: \n",
    "        for o in i: #Technically each ID only has a unique set of ancestors hence returning result on the first record\n",
    "            return_set = o.split(\"::\")\n",
    "            return_set.pop()\n",
    "            return(return_set)\n",
    "\n",
    "print(get_location_ancestors_SQL(\"location_1380\"))\n",
    "\n",
    "print(\"--------- end ---------\")"
   ]
  },
  {
   "cell_type": "code",
   "execution_count": 653,
   "metadata": {},
   "outputs": [
    {
     "name": "stdout",
     "output_type": "stream",
     "text": [
      "--------- 1f ii)  Q1(b)---------\n",
      "['location_32', 'location_213', 'location_214', 'location_215', 'location_216', 'location_1357', 'location_1358', 'location_1359', 'location_1360', 'location_1361', 'location_1362', 'location_1363', 'location_1364', 'location_1365', 'location_1366', 'location_1367', 'location_1368', 'location_1369', 'location_1370', 'location_1371', 'location_1372', 'location_1373', 'location_1374', 'location_1375', 'location_1376', 'location_1377', 'location_1378', 'location_1379', 'location_1380', 'location_1381', 'location_1382', 'location_1383', 'location_1384', 'location_1385', 'location_1386', 'location_1387', 'location_1388', 'location_1389', 'location_1390', 'location_1391', 'location_1392']\n",
      "['location_216', 'location_1380', 'location_1381', 'location_1382', 'location_1383', 'location_1384', 'location_1385', 'location_1386', 'location_1387', 'location_1388', 'location_1389', 'location_1390', 'location_1391', 'location_1392']\n",
      "['location_1380']\n",
      "--------- end ---------\n"
     ]
    }
   ],
   "source": [
    "### 1f ii ###\n",
    "print(\"--------- 1f ii)  Q1(b)---------\")\n",
    "\n",
    "def get_location_descendants_SQL(location_id):\n",
    "    query = engine.execute(\"SELECT access_path FROM locations_table where access_path like ?\", \"%\"+location_id+\"%\")\n",
    "    return_set = []\n",
    "    for i in query: \n",
    "        for o in i: \n",
    "            return_set_add = o.split(\"::\")\n",
    "            return_set.append(return_set_add[-1])\n",
    "    return(return_set) #return descendants once all loop is complete\n",
    "\n",
    "print(get_location_descendants_SQL(\"location_32\"))\n",
    "print(get_location_descendants_SQL(\"location_216\"))\n",
    "print(get_location_descendants_SQL(\"location_1380\"))\n",
    "\n",
    "print(\"--------- end ---------\")"
   ]
  },
  {
   "cell_type": "code",
   "execution_count": 654,
   "metadata": {},
   "outputs": [
    {
     "name": "stdout",
     "output_type": "stream",
     "text": [
      "--------- 1f iii)  Q1(d)---------\n",
      "('location_32', '77201 Smith Stravenue Suite 983\\nObrienberg, PA 50900', 'location_32', 'user_0000000000')\n",
      "('location_213', '378 Jones Mews\\nNorth Jeffery, SD 71493', 'location_32::location_213', 'user_0000000000')\n",
      "('location_214', '8091 Frederick Burgs Apt. 413\\nNorth Georgeland, AK 53344', 'location_32::location_214', 'user_0000000000')\n",
      "('location_215', '38989 Smith Courts Apt. 936\\nWest Leslie, LA 72153', 'location_32::location_215', 'user_0000000000')\n",
      "('location_216', '638 Singh Locks Suite 427\\nWest Theresa, MI 10446', 'location_32::location_216', 'user_0000000000')\n",
      "('location_216', '638 Singh Locks Suite 427\\nWest Theresa, MI 10446', 'location_32::location_216', 'user_0000000000')\n",
      "('location_1357', '654 Mitchell Keys\\nWebermouth, WA 55621', 'location_32::location_213::location_1357', 'user_0000000000')\n",
      "('location_1358', '20806 Duffy Mountain Apt. 550\\nLake Bonnieside, OK 11766', 'location_32::location_213::location_1358', 'user_0000000000')\n",
      "('location_1359', '486 Amanda Forges Apt. 920\\nMeyerchester, WV 06579', 'location_32::location_213::location_1359', 'user_0000000000')\n",
      "('location_1360', '72342 Fox Course\\nAdamsshire, NH 16380', 'location_32::location_213::location_1360', 'user_0000000000')\n",
      "('location_1361', '36483 Barnes Glens Apt. 206\\nHeathland, DE 87320', 'location_32::location_213::location_1361', 'user_0000000000')\n",
      "('location_1362', '56446 Benitez Junction\\nKarinaberg, MT 88565', 'location_32::location_214::location_1362', 'user_0000000000')\n",
      "('location_1363', '1038 Glass Common Apt. 584\\nGregorymouth, ND 58626', 'location_32::location_214::location_1363', 'user_0000000000')\n",
      "('location_1364', '434 Williams Station\\nElizabethfort, MN 86721', 'location_32::location_214::location_1364', 'user_0000000000')\n",
      "('location_1365', '6219 Alexander Lodge\\nNew Jacobstad, KS 13043', 'location_32::location_214::location_1365', 'user_0000000000')\n",
      "('location_1366', '3079 Smith Plaza\\nMurphybury, IL 51597', 'location_32::location_215::location_1366', 'user_0000000000')\n",
      "('location_1367', '4512 Stephen Mission\\nLanemouth, AR 38719', 'location_32::location_215::location_1367', 'user_0000000000')\n",
      "('location_1368', '1521 Valerie Plains\\nEast Gabriellestad, WA 83895', 'location_32::location_215::location_1368', 'user_0000000000')\n",
      "('location_1369', '41282 Dylan Harbors\\nMendeztown, MA 62572', 'location_32::location_215::location_1369', 'user_0000000000')\n",
      "('location_1370', '6262 Jennifer Hills Suite 906\\nNew Emilyport, TX 19398', 'location_32::location_215::location_1370', 'user_0000000000')\n",
      "('location_1371', '1491 Tyler Stream Apt. 287\\nVanessaport, OR 21709', 'location_32::location_215::location_1371', 'user_0000000000')\n",
      "('location_1372', '8742 Jackson Point\\nEast Claudiastad, CA 92524', 'location_32::location_215::location_1372', 'user_0000000000')\n",
      "('location_1373', 'Unit 1283 Box 3182\\nDPO AP 50224', 'location_32::location_215::location_1373', 'user_0000000000')\n",
      "('location_1374', '8771 Arias Lock Suite 132\\nPattersonberg, NC 95799', 'location_32::location_215::location_1374', 'user_0000000000')\n",
      "('location_1375', '408 Victoria Neck\\nLake Soniaside, NH 23047', 'location_32::location_215::location_1375', 'user_0000000000')\n",
      "('location_1376', '1887 Nelson Villages\\nJamesshire, IL 50355', 'location_32::location_215::location_1376', 'user_0000000000')\n",
      "('location_1377', '639 Robert Center\\nRossshire, IN 52798', 'location_32::location_215::location_1377', 'user_0000000000')\n",
      "('location_1378', '52413 Harry Road\\nAmberport, TX 08603', 'location_32::location_215::location_1378', 'user_0000000000')\n",
      "('location_1379', '115 Perez Bridge\\nNorth Alicemouth, AL 37450', 'location_32::location_215::location_1379', 'user_0000000000')\n",
      "('location_1380', '302 Francis Cape Suite 745\\nNew Christy, SD 58293', 'location_32::location_216::location_1380', 'user_0000000000')\n",
      "('location_1380', '302 Francis Cape Suite 745\\nNew Christy, SD 58293', 'location_32::location_216::location_1380', 'user_0000000000')\n",
      "('location_1381', '16822 Smith Vista\\nCraigburgh, DC 79571', 'location_32::location_216::location_1381', 'user_0000000000')\n",
      "('location_1381', '16822 Smith Vista\\nCraigburgh, DC 79571', 'location_32::location_216::location_1381', 'user_0000000000')\n",
      "('location_1382', '4184 Stout Green Apt. 687\\nNew Matthew, NM 96461', 'location_32::location_216::location_1382', 'user_0000000000')\n",
      "('location_1382', '4184 Stout Green Apt. 687\\nNew Matthew, NM 96461', 'location_32::location_216::location_1382', 'user_0000000000')\n",
      "('location_1383', '659 Bradley Terrace\\nMartinezchester, KY 26364', 'location_32::location_216::location_1383', 'user_0000000000')\n",
      "('location_1383', '659 Bradley Terrace\\nMartinezchester, KY 26364', 'location_32::location_216::location_1383', 'user_0000000000')\n",
      "('location_1384', 'Unit 5753 Box 5317\\nDPO AA 89017', 'location_32::location_216::location_1384', 'user_0000000000')\n",
      "('location_1384', 'Unit 5753 Box 5317\\nDPO AA 89017', 'location_32::location_216::location_1384', 'user_0000000000')\n",
      "('location_1385', '8893 Baker Shore Apt. 834\\nNorth John, NE 11512', 'location_32::location_216::location_1385', 'user_0000000000')\n",
      "('location_1385', '8893 Baker Shore Apt. 834\\nNorth John, NE 11512', 'location_32::location_216::location_1385', 'user_0000000000')\n",
      "('location_1386', '92865 Mcpherson Row\\nLaurenborough, ME 01339', 'location_32::location_216::location_1386', 'user_0000000000')\n",
      "('location_1386', '92865 Mcpherson Row\\nLaurenborough, ME 01339', 'location_32::location_216::location_1386', 'user_0000000000')\n",
      "('location_1387', '30144 Roberson Street\\nEast Joshua, KY 92201', 'location_32::location_216::location_1387', 'user_0000000000')\n",
      "('location_1387', '30144 Roberson Street\\nEast Joshua, KY 92201', 'location_32::location_216::location_1387', 'user_0000000000')\n",
      "('location_1388', '9616 Stone Camp Apt. 496\\nReginaside, MA 93296', 'location_32::location_216::location_1388', 'user_0000000000')\n",
      "('location_1388', '9616 Stone Camp Apt. 496\\nReginaside, MA 93296', 'location_32::location_216::location_1388', 'user_0000000000')\n",
      "('location_1389', '88068 Santana Extension\\nEast Kristine, SC 23417', 'location_32::location_216::location_1389', 'user_0000000000')\n",
      "('location_1389', '88068 Santana Extension\\nEast Kristine, SC 23417', 'location_32::location_216::location_1389', 'user_0000000000')\n",
      "('location_1390', '8630 Anderson Well\\nWest Regina, CA 13695', 'location_32::location_216::location_1390', 'user_0000000000')\n",
      "('location_1390', '8630 Anderson Well\\nWest Regina, CA 13695', 'location_32::location_216::location_1390', 'user_0000000000')\n",
      "('location_1391', '990 Cody Drive Suite 957\\nJohnsontown, KY 56405', 'location_32::location_216::location_1391', 'user_0000000000')\n",
      "('location_1391', '990 Cody Drive Suite 957\\nJohnsontown, KY 56405', 'location_32::location_216::location_1391', 'user_0000000000')\n",
      "('location_1392', '29193 Gonzales Path\\nThomasview, OK 88489', 'location_32::location_216::location_1392', 'user_0000000000')\n",
      "('location_1392', '29193 Gonzales Path\\nThomasview, OK 88489', 'location_32::location_216::location_1392', 'user_0000000000')\n",
      "('location_1380', '302 Francis Cape Suite 745\\nNew Christy, SD 58293', 'location_32::location_216::location_1380', 'user_0000000001')\n",
      "('location_216', '638 Singh Locks Suite 427\\nWest Theresa, MI 10446', 'location_32::location_216', 'user_0000000009')\n",
      "('location_1380', '302 Francis Cape Suite 745\\nNew Christy, SD 58293', 'location_32::location_216::location_1380', 'user_0000000009')\n",
      "('location_1381', '16822 Smith Vista\\nCraigburgh, DC 79571', 'location_32::location_216::location_1381', 'user_0000000009')\n",
      "('location_1382', '4184 Stout Green Apt. 687\\nNew Matthew, NM 96461', 'location_32::location_216::location_1382', 'user_0000000009')\n",
      "('location_1383', '659 Bradley Terrace\\nMartinezchester, KY 26364', 'location_32::location_216::location_1383', 'user_0000000009')\n",
      "('location_1384', 'Unit 5753 Box 5317\\nDPO AA 89017', 'location_32::location_216::location_1384', 'user_0000000009')\n",
      "('location_1385', '8893 Baker Shore Apt. 834\\nNorth John, NE 11512', 'location_32::location_216::location_1385', 'user_0000000009')\n",
      "('location_1386', '92865 Mcpherson Row\\nLaurenborough, ME 01339', 'location_32::location_216::location_1386', 'user_0000000009')\n",
      "('location_1387', '30144 Roberson Street\\nEast Joshua, KY 92201', 'location_32::location_216::location_1387', 'user_0000000009')\n",
      "('location_1388', '9616 Stone Camp Apt. 496\\nReginaside, MA 93296', 'location_32::location_216::location_1388', 'user_0000000009')\n",
      "('location_1389', '88068 Santana Extension\\nEast Kristine, SC 23417', 'location_32::location_216::location_1389', 'user_0000000009')\n",
      "('location_1390', '8630 Anderson Well\\nWest Regina, CA 13695', 'location_32::location_216::location_1390', 'user_0000000009')\n",
      "('location_1391', '990 Cody Drive Suite 957\\nJohnsontown, KY 56405', 'location_32::location_216::location_1391', 'user_0000000009')\n",
      "('location_1392', '29193 Gonzales Path\\nThomasview, OK 88489', 'location_32::location_216::location_1392', 'user_0000000009')\n",
      "--------- end ---------\n"
     ]
    }
   ],
   "source": [
    "### 1f iii ###\n",
    "print(\"--------- 1f iii)  Q1(d)---------\")\n",
    "\n",
    "query = engine.execute(\"\"\"SELECT loc.id, loc.name, loc.access_path, gp.user_id\n",
    "                            FROM locations_table loc\n",
    "                            inner join granted_permission_table gp\n",
    "                            on loc.access_path like gp.access_path||'%'\n",
    "                            order by gp.user_id\n",
    "                            \"\"\")\n",
    "for i in query: \n",
    "    print(i)\n",
    "\n",
    "print(\"--------- end ---------\")"
   ]
  },
  {
   "cell_type": "code",
   "execution_count": 655,
   "metadata": {},
   "outputs": [
    {
     "name": "stdout",
     "output_type": "stream",
     "text": [
      "--------- 1f iv)  Q1(e)---------\n",
      "--------- end ---------\n"
     ]
    }
   ],
   "source": [
    "### 1f iv ###\n",
    "print(\"--------- 1f iv)  Q1(e)---------\")\n",
    "\n",
    "def read_meetings_SQL(user_id):\n",
    "    query = engine.execute(\"\"\"select meeting.id\n",
    "                            from meetings_table meeting,\n",
    "                                (SELECT loc.id, loc.name, loc.access_path, gp.user_id\n",
    "                                FROM locations_table loc\n",
    "                                inner join granted_permission_table gp\n",
    "                                on loc.access_path like gp.access_path||'%'\n",
    "                                where gp.user_id = ?\n",
    "                                order by gp.user_id) gplist\n",
    "                            where meeting.location_id = gplist.id\n",
    "                                \"\"\", user_id)\n",
    "    return_set = []\n",
    "    for i in query: \n",
    "        return_set.append(i[0])\n",
    "    return(return_set) #return once loop finish\n",
    "\n",
    "#commented as there are alot of records\n",
    "#print(read_meetings_SQL(\"user_0000000009\"))\n",
    "\n",
    "print(\"--------- end ---------\")"
   ]
  },
  {
   "cell_type": "code",
   "execution_count": 656,
   "metadata": {},
   "outputs": [
    {
     "name": "stdout",
     "output_type": "stream",
     "text": [
      "--------- 2a) ---------\n",
      "    alpha_numeric_codes           name           opening abbreviation  \\\n",
      "0             NS1, EW24    Jurong East     10 March 1990          JUR   \n",
      "1                   NS2    Bukit Batok     10 March 1990          BBT   \n",
      "2                   NS3   Bukit Gombak     10 March 1990          BGB   \n",
      "3              NS4, BP1  Choa Chu Kang     10 March 1990          CCK   \n",
      "4                   NS5        Yew Tee  10 February 1996          YWT   \n",
      "..                  ...            ...               ...          ...   \n",
      "146                 TE5         Lentor    28 August 2021          LTR   \n",
      "147                 TE6      Mayflower    28 August 2021          MFL   \n",
      "148                 TE7    Bright Hill    28 August 2021          BRH   \n",
      "149                 TE8  Upper Thomson    28 August 2021          UTS   \n",
      "150           TE9, CC17      Caldecott    28 August 2021          CDT   \n",
      "\n",
      "                          mrt_line  \n",
      "0           North South Line (NSL)  \n",
      "1           North South Line (NSL)  \n",
      "2           North South Line (NSL)  \n",
      "3           North South Line (NSL)  \n",
      "4           North South Line (NSL)  \n",
      "..                             ...  \n",
      "146  Thomson–East Coast Line (TEL)  \n",
      "147  Thomson–East Coast Line (TEL)  \n",
      "148  Thomson–East Coast Line (TEL)  \n",
      "149  Thomson–East Coast Line (TEL)  \n",
      "150  Thomson–East Coast Line (TEL)  \n",
      "\n",
      "[151 rows x 5 columns]\n",
      "--------- end ---------\n"
     ]
    }
   ],
   "source": [
    "### 2a ###\n",
    "print(\"--------- 2a) ---------\")\n",
    "\n",
    "import requests\n",
    "from bs4 import BeautifulSoup\n",
    "from datetime import datetime\n",
    "\n",
    "user_agent = {'User-agent': 'Mozilla/5.0'}\n",
    "\n",
    "url = 'https://en.wikipedia.org/w/index.php?title=List_of_Singapore_MRT_stations&oldid=1094758210'\n",
    "page = requests.get(url, headers = user_agent)\n",
    "soup = BeautifulSoup(page.content)\n",
    "table = soup.find('table', {'class':'wikitable sortable'}) # Look for the table with class 'wikitable sortable'\n",
    "mrt_line_record = \"\"\n",
    "opening = \"\"\n",
    "openingRowCount = 0\n",
    "openingOriginalCount = 0\n",
    "df_data_holder = []\n",
    "for i in table.findAll('tr')[2:]: #Run through all TR \n",
    "    columns = i.find_all('td')\n",
    "    for i in columns: \n",
    "        if i.get('rowspan') is not None: #Check any TD has rowspan. if yes, assign accordingly to counter\n",
    "            if columns.index(i) == 4: \n",
    "                openingRowCount = int(i.get('rowspan'))\n",
    "                openingOriginalCount = int(i.get('rowspan'))\n",
    "    insert_set = []\n",
    "    #check against counter and if detected missing column, add in previous date column (based on rowspan)\n",
    "    if openingRowCount != openingOriginalCount and openingRowCount > 0: columns.insert(4,opening)\n",
    "    if(len(columns) == 1): mrt_line_record = columns[0].text.strip() #mrt_line\n",
    "    if(len(columns) > 4): #anything above 4 is a mrt station row\n",
    "        if isinstance(columns[4], str): opening = columns[4].replace('[19]','').strip()\n",
    "        else: opening = columns[4].text.replace('[19]','').strip()\n",
    "        try:\n",
    "            if bool(datetime.strptime(opening, \"%d %B %Y\")):\n",
    "                insert_set.append(columns[0].text.replace(u'\\xa0', u' ').replace(' – ','  ').replace('Infill station','').strip().replace('  ', ', '))\n",
    "                insert_set.append(columns[1].text.strip())\n",
    "                insert_set.append(opening)\n",
    "                insert_set.append(columns[6].text.strip())\n",
    "                insert_set.append(mrt_line_record)\n",
    "                df_data_holder.append(insert_set)\n",
    "        except ValueError: None\n",
    "    if openingRowCount >= 0: openingRowCount -= 1\n",
    "\n",
    "mrt_station = pd.DataFrame(df_data_holder, columns=['alpha_numeric_codes', 'name', 'opening', 'abbreviation', 'mrt_line'])\n",
    "print(mrt_station)\n",
    "\n",
    "print(\"--------- end ---------\")"
   ]
  },
  {
   "cell_type": "code",
   "execution_count": 657,
   "metadata": {},
   "outputs": [
    {
     "name": "stdout",
     "output_type": "stream",
     "text": [
      "--------- 2b) ---------\n",
      "--------- end ---------\n"
     ]
    },
    {
     "data": {
      "image/png": "[encoded data removed]",
      "text/plain": [
       "<Figure size 1152x648 with 1 Axes>"
      ]
     },
     "metadata": {
      "needs_background": "light"
     },
     "output_type": "display_data"
    }
   ],
   "source": [
    "### 2b ###\n",
    "print(\"--------- 2b) ---------\")\n",
    "\n",
    "%matplotlib inline\n",
    "import matplotlib.pyplot as plt\n",
    "#team_memberships = team_memberships.astype(int).sort_values(\"team_id\", axis = 0, ascending = True)\n",
    "mrt_station_gb = (mrt_station.groupby(['mrt_line']).count().reset_index())\n",
    "fig, ax = plt.subplots(figsize =(16, 9))\n",
    "ax.barh(mrt_station_gb['mrt_line'], mrt_station_gb['abbreviation'])\n",
    "for s in ['top', 'bottom', 'left', 'right']:\n",
    "    ax.spines[s].set_visible(False)\n",
    "ax.xaxis.set_ticks_position('none')\n",
    "ax.yaxis.set_ticks_position('none')\n",
    "ax.xaxis.set_tick_params(pad = 5)\n",
    "ax.yaxis.set_tick_params(pad = 10)\n",
    "ax.grid(visible = True, color ='grey',\n",
    "        linestyle ='-.', linewidth = 0.5,\n",
    "        alpha = 0.2)\n",
    "ax.invert_yaxis()\n",
    "for i in ax.patches:\n",
    "    plt.text(i.get_width()+0.2, i.get_y()+0.5,\n",
    "             str(round((i.get_width()), 2)),\n",
    "             fontsize = 10, fontweight ='bold',\n",
    "             color ='grey')\n",
    "ax.set_title('Num of MRT Station per MRT line', loc ='left', )\n",
    "\n",
    "print(\"--------- end ---------\")"
   ]
  },
  {
   "cell_type": "code",
   "execution_count": 658,
   "metadata": {},
   "outputs": [
    {
     "name": "stdout",
     "output_type": "stream",
     "text": [
      "--------- 2c) ---------\n",
      "    From   to                       mrt_line\n",
      "0    DBG  BBS              Circle Line (CCL)\n",
      "1    BBS  DBG              Circle Line (CCL)\n",
      "2    BBS  EPN              Circle Line (CCL)\n",
      "3    EPN  BBS              Circle Line (CCL)\n",
      "4    EPN  PMN              Circle Line (CCL)\n",
      "..   ...  ...                            ...\n",
      "273  BRH  MFL  Thomson–East Coast Line (TEL)\n",
      "274  BRH  UTS  Thomson–East Coast Line (TEL)\n",
      "275  UTS  BRH  Thomson–East Coast Line (TEL)\n",
      "276  UTS  CDT  Thomson–East Coast Line (TEL)\n",
      "277  CDT  UTS  Thomson–East Coast Line (TEL)\n",
      "\n",
      "[278 rows x 3 columns]\n",
      "--------- end ---------\n"
     ]
    }
   ],
   "source": [
    "### 2c ###\n",
    "print(\"--------- 2c) ---------\")\n",
    "\n",
    "df_data_holder = []\n",
    "for i, row in mrt_station.iterrows():\n",
    "    alpha_first_occ = row['alpha_numeric_codes'].split(\", \")[0] #Get the first Alpha Code\n",
    "    insert_set = []\n",
    "    insert_set.append(alpha_first_occ[:2])\n",
    "    insert_set.append(int(alpha_first_occ[2:]))\n",
    "    insert_set.append(row['abbreviation'])\n",
    "    insert_set.append(row['mrt_line'])\n",
    "    df_data_holder.append(insert_set)\n",
    "df_custom = pd.DataFrame(df_data_holder, columns=['alpha_numeric_codes', 'alpha_numeric_codes_No', 'abbreviation', 'mrt_line'])\n",
    "df_custom = df_custom.sort_values(by = ['alpha_numeric_codes', 'alpha_numeric_codes_No'], ascending = [True, True])\n",
    "\n",
    "df_data_holder = []\n",
    "df_custom_prev = []\n",
    "for i, row in df_custom.iterrows():\n",
    "    insert_set = []\n",
    "    if len(df_custom_prev) == 0:\n",
    "        df_custom_prev.append(row['alpha_numeric_codes'])\n",
    "        df_custom_prev.append(row['alpha_numeric_codes_No'])\n",
    "        df_custom_prev.append(row['abbreviation'])\n",
    "        df_custom_prev.append(row['mrt_line'])\n",
    "    else:\n",
    "        if df_custom_prev[0] == row['alpha_numeric_codes'] and df_custom_prev[1]+1 == row['alpha_numeric_codes_No']:\n",
    "            insert_set.append(df_custom_prev[2])\n",
    "            insert_set.append(row['abbreviation'])\n",
    "            insert_set.append(df_custom_prev[3])\n",
    "            df_data_holder.append(insert_set)\n",
    "            insert_set = []\n",
    "            insert_set.append(row['abbreviation'])\n",
    "            insert_set.append(df_custom_prev[2])\n",
    "            insert_set.append(row['mrt_line'])\n",
    "            df_data_holder.append(insert_set)\n",
    "            df_custom_prev = []\n",
    "            df_custom_prev.append(row['alpha_numeric_codes'])\n",
    "            df_custom_prev.append(row['alpha_numeric_codes_No'])\n",
    "            df_custom_prev.append(row['abbreviation'])\n",
    "            df_custom_prev.append(row['mrt_line'])\n",
    "        else:\n",
    "            df_custom_prev = []\n",
    "            df_custom_prev.append(row['alpha_numeric_codes'])\n",
    "            df_custom_prev.append(row['alpha_numeric_codes_No'])\n",
    "            df_custom_prev.append(row['abbreviation'])\n",
    "            df_custom_prev.append(row['mrt_line'])\n",
    "\n",
    "station_pair = pd.DataFrame(df_data_holder, columns=['From', 'to', 'mrt_line'])\n",
    "print(station_pair)\n",
    "\n",
    "print(\"--------- end ---------\")"
   ]
  },
  {
   "cell_type": "code",
   "execution_count": 659,
   "metadata": {},
   "outputs": [
    {
     "name": "stdout",
     "output_type": "stream",
     "text": [
      "--------- 2d) ---------\n",
      "['WDL', 'ADM', 'SBW', 'CBR', 'YIS', 'KTB', 'YCK', 'AMK', 'BSH', 'LRC', 'SER', 'BLY', 'TSG', 'MPS', 'PYL', 'EUN', 'KEM', 'BDK', 'TNM', 'XPO', 'CGA']\n",
      "--------- end ---------\n"
     ]
    }
   ],
   "source": [
    "### 2d ###\n",
    "print(\"--------- 2d) ---------\")\n",
    "\n",
    "def get_shortest_travel_path(from_station, to_station):\n",
    "    travel_path = [from_station]\n",
    "    filtered_from_station = station_pair[(station_pair.From == from_station)]\n",
    "    #To add all combi into a path_dict\n",
    "    path_dict = {}\n",
    "    for i in station_pair.From.unique():\n",
    "        filtered_from_station = station_pair[(station_pair.From == i)]\n",
    "        #create a set type variable to insert value\n",
    "        path_dict_set = set()\n",
    "        for o, row in filtered_from_station.iterrows():\n",
    "            path_dict_set.add(row['to'])\n",
    "        path_dict[i] = path_dict_set\n",
    "    #Add this path from Tanah Merah to Expo. to capture connection in the real world \n",
    "    # and the website did not link under the Changi Airport Branch Line (CAL)\n",
    "    # this will allow shorter path\n",
    "    path_dict[\"TNM\"].add(\"XPO\")\n",
    "\n",
    "    path_list = [[from_station]]\n",
    "    path_index = 0\n",
    "    # To keep track of previously visited nodes\n",
    "    previous_nodes = {from_station}\n",
    "    if from_station == to_station:\n",
    "        return path_list[0]        \n",
    "    while path_index < len(path_list):\n",
    "        current_path = path_list[path_index]\n",
    "        last_node = current_path[-1]\n",
    "        next_nodes = path_dict[last_node]\n",
    "        # Search goal node\n",
    "        if to_station in next_nodes:\n",
    "            current_path.append(to_station)\n",
    "            return current_path\n",
    "        # Add new paths\n",
    "        for next_node in next_nodes:\n",
    "            if not next_node in previous_nodes:\n",
    "                new_path = current_path[:]\n",
    "                new_path.append(next_node)\n",
    "                path_list.append(new_path)\n",
    "                # To avoid backtracking\n",
    "                previous_nodes.add(next_node)\n",
    "        # Continue to next path in list\n",
    "        path_index += 1\n",
    "    # No path is found\n",
    "    return []\n",
    "\n",
    "print(get_shortest_travel_path(\"WDL\",\"CGA\"))\n",
    "print(\"--------- end ---------\")"
   ]
  }
 ],
 "metadata": {
  "kernelspec": {
   "display_name": "Python 3.10.8 64-bit (microsoft store)",
   "language": "python",
   "name": "python3"
  },
  "language_info": {
   "codemirror_mode": {
    "name": "ipython",
    "version": 3
   },
   "file_extension": ".py",
   "mimetype": "text/x-python",
   "name": "python",
   "nbconvert_exporter": "python",
   "pygments_lexer": "ipython3",
   "version": "3.10.8"
  },
  "orig_nbformat": 4,
  "vscode": {
   "interpreter": {
    "hash": "d3f0d207b648d1175a3b2bbb912118d4848417bdf0b1a5227ab0916c63215186"
   }
  }
 },
 "nbformat": 4,
 "nbformat_minor": 2
}
